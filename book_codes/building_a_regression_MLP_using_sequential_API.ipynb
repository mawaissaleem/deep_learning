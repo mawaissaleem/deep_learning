{
 "cells": [
  {
   "cell_type": "code",
   "execution_count": 1,
   "metadata": {},
   "outputs": [
    {
     "name": "stderr",
     "output_type": "stream",
     "text": [
      "2023-07-29 00:37:59.654138: I tensorflow/tsl/cuda/cudart_stub.cc:28] Could not find cuda drivers on your machine, GPU will not be used.\n",
      "2023-07-29 00:38:00.096564: I tensorflow/tsl/cuda/cudart_stub.cc:28] Could not find cuda drivers on your machine, GPU will not be used.\n",
      "2023-07-29 00:38:01.644914: W tensorflow/compiler/tf2tensorrt/utils/py_utils.cc:38] TF-TRT Warning: Could not find TensorRT\n"
     ]
    }
   ],
   "source": [
    "from sklearn.datasets import fetch_california_housing\n",
    "import tensorflow as tf\n",
    "import numpy as np\n",
    "import pandas as pd"
   ]
  },
  {
   "cell_type": "code",
   "execution_count": 11,
   "metadata": {},
   "outputs": [
    {
     "name": "stdout",
     "output_type": "stream",
     "text": [
      "            0     1         2         3       4         5      6       7\n",
      "0      8.3252  41.0  6.984127  1.023810   322.0  2.555556  37.88 -122.23\n",
      "1      8.3014  21.0  6.238137  0.971880  2401.0  2.109842  37.86 -122.22\n",
      "2      7.2574  52.0  8.288136  1.073446   496.0  2.802260  37.85 -122.24\n",
      "3      5.6431  52.0  5.817352  1.073059   558.0  2.547945  37.85 -122.25\n",
      "4      3.8462  52.0  6.281853  1.081081   565.0  2.181467  37.85 -122.25\n",
      "...       ...   ...       ...       ...     ...       ...    ...     ...\n",
      "20635  1.5603  25.0  5.045455  1.133333   845.0  2.560606  39.48 -121.09\n",
      "20636  2.5568  18.0  6.114035  1.315789   356.0  3.122807  39.49 -121.21\n",
      "20637  1.7000  17.0  5.205543  1.120092  1007.0  2.325635  39.43 -121.22\n",
      "20638  1.8672  18.0  5.329513  1.171920   741.0  2.123209  39.43 -121.32\n",
      "20639  2.3886  16.0  5.254717  1.162264  1387.0  2.616981  39.37 -121.24\n",
      "\n",
      "[20640 rows x 8 columns]\n",
      "           0\n",
      "0      4.526\n",
      "1      3.585\n",
      "2      3.521\n",
      "3      3.413\n",
      "4      3.422\n",
      "...      ...\n",
      "20635  0.781\n",
      "20636  0.771\n",
      "20637  0.923\n",
      "20638  0.847\n",
      "20639  0.894\n",
      "\n",
      "[20640 rows x 1 columns]\n"
     ]
    }
   ],
   "source": [
    "housing = fetch_california_housing()\n",
    "print(pd.DataFrame(housing.data))\n",
    "print(pd.DataFrame(housing.target))"
   ]
  },
  {
   "cell_type": "code",
   "execution_count": 13,
   "metadata": {},
   "outputs": [
    {
     "name": "stdout",
     "output_type": "stream",
     "text": [
      "(12500, 8) (4000, 8) (4140, 8)\n"
     ]
    }
   ],
   "source": [
    "X_orig = housing.data\n",
    "Y_orig = housing.target\n",
    "X_train, y_train = X_orig[0:12500], Y_orig[0:12500]\n",
    "X_test, y_test = X_orig[12500:16500], Y_orig[12500:16500]\n",
    "X_valid, y_valid = X_orig[16500:], Y_orig[16500:]\n",
    "\n",
    "print(X_train.shape, X_test.shape, X_valid.shape)"
   ]
  },
  {
   "cell_type": "code",
   "execution_count": 22,
   "metadata": {},
   "outputs": [],
   "source": [
    "tf.random.set_seed(42)\n",
    "norm_layer = tf.keras.layers.Normalization(input_shape=X_train.shape[1:])\n",
    "model = tf.keras.Sequential([\n",
    "    norm_layer,\n",
    "    tf.keras.layers.Dense(50, activation=\"relu\"),\n",
    "    tf.keras.layers.Dense(50, activation=\"relu\"),\n",
    "    tf.keras.layers.Dense(50, activation=\"relu\"),\n",
    "    tf.keras.layers.Dense(1)\n",
    "])"
   ]
  },
  {
   "cell_type": "code",
   "execution_count": 33,
   "metadata": {},
   "outputs": [],
   "source": [
    "optimiser = tf.keras.optimizers.Adam(learning_rate=0.001)\n",
    "model.compile(loss=\"mse\", optimizer=optimiser, metrics=[\"RootMeanSquaredError\"])"
   ]
  },
  {
   "cell_type": "code",
   "execution_count": 34,
   "metadata": {},
   "outputs": [
    {
     "name": "stdout",
     "output_type": "stream",
     "text": [
      "Epoch 1/50\n",
      "391/391 [==============================] - 2s 3ms/step - loss: 0.1727 - root_mean_squared_error: 0.4155 - val_loss: 0.5145 - val_root_mean_squared_error: 0.7173\n",
      "Epoch 2/50\n",
      "391/391 [==============================] - 1s 2ms/step - loss: 0.1701 - root_mean_squared_error: 0.4124 - val_loss: 0.5821 - val_root_mean_squared_error: 0.7630\n",
      "Epoch 3/50\n",
      "391/391 [==============================] - 1s 2ms/step - loss: 0.1709 - root_mean_squared_error: 0.4134 - val_loss: 0.5711 - val_root_mean_squared_error: 0.7557\n",
      "Epoch 4/50\n",
      "391/391 [==============================] - 1s 2ms/step - loss: 0.1691 - root_mean_squared_error: 0.4112 - val_loss: 0.5615 - val_root_mean_squared_error: 0.7493\n",
      "Epoch 5/50\n",
      "391/391 [==============================] - 1s 2ms/step - loss: 0.1703 - root_mean_squared_error: 0.4126 - val_loss: 0.6064 - val_root_mean_squared_error: 0.7787\n",
      "Epoch 6/50\n",
      "391/391 [==============================] - 1s 2ms/step - loss: 0.1695 - root_mean_squared_error: 0.4117 - val_loss: 0.6734 - val_root_mean_squared_error: 0.8206\n",
      "Epoch 7/50\n",
      "391/391 [==============================] - 1s 2ms/step - loss: 0.1666 - root_mean_squared_error: 0.4081 - val_loss: 0.5709 - val_root_mean_squared_error: 0.7556\n",
      "Epoch 8/50\n",
      "391/391 [==============================] - 1s 2ms/step - loss: 0.1652 - root_mean_squared_error: 0.4064 - val_loss: 0.6382 - val_root_mean_squared_error: 0.7989\n",
      "Epoch 9/50\n",
      "391/391 [==============================] - 1s 2ms/step - loss: 0.1655 - root_mean_squared_error: 0.4068 - val_loss: 0.5806 - val_root_mean_squared_error: 0.7620\n",
      "Epoch 10/50\n",
      "391/391 [==============================] - 1s 2ms/step - loss: 0.1667 - root_mean_squared_error: 0.4082 - val_loss: 0.5535 - val_root_mean_squared_error: 0.7440\n",
      "Epoch 11/50\n",
      "391/391 [==============================] - 1s 2ms/step - loss: 0.1661 - root_mean_squared_error: 0.4076 - val_loss: 0.6153 - val_root_mean_squared_error: 0.7844\n",
      "Epoch 12/50\n",
      "391/391 [==============================] - 1s 2ms/step - loss: 0.1638 - root_mean_squared_error: 0.4047 - val_loss: 0.6177 - val_root_mean_squared_error: 0.7859\n",
      "Epoch 13/50\n",
      "391/391 [==============================] - 1s 2ms/step - loss: 0.1623 - root_mean_squared_error: 0.4028 - val_loss: 0.6806 - val_root_mean_squared_error: 0.8250\n",
      "Epoch 14/50\n",
      "391/391 [==============================] - 1s 2ms/step - loss: 0.1635 - root_mean_squared_error: 0.4043 - val_loss: 0.6289 - val_root_mean_squared_error: 0.7930\n",
      "Epoch 15/50\n",
      "391/391 [==============================] - 1s 2ms/step - loss: 0.1600 - root_mean_squared_error: 0.4000 - val_loss: 0.6860 - val_root_mean_squared_error: 0.8283\n",
      "Epoch 16/50\n",
      "391/391 [==============================] - 1s 2ms/step - loss: 0.1613 - root_mean_squared_error: 0.4016 - val_loss: 0.8319 - val_root_mean_squared_error: 0.9121\n",
      "Epoch 17/50\n",
      "391/391 [==============================] - 1s 2ms/step - loss: 0.1624 - root_mean_squared_error: 0.4030 - val_loss: 0.6708 - val_root_mean_squared_error: 0.8190\n",
      "Epoch 18/50\n",
      "391/391 [==============================] - 1s 2ms/step - loss: 0.1652 - root_mean_squared_error: 0.4064 - val_loss: 1.0673 - val_root_mean_squared_error: 1.0331\n",
      "Epoch 19/50\n",
      "391/391 [==============================] - 1s 2ms/step - loss: 0.1839 - root_mean_squared_error: 0.4288 - val_loss: 0.6930 - val_root_mean_squared_error: 0.8325\n",
      "Epoch 20/50\n",
      "391/391 [==============================] - 1s 2ms/step - loss: 0.1606 - root_mean_squared_error: 0.4008 - val_loss: 0.7001 - val_root_mean_squared_error: 0.8367\n",
      "Epoch 21/50\n",
      "391/391 [==============================] - 1s 2ms/step - loss: 0.1581 - root_mean_squared_error: 0.3976 - val_loss: 0.6730 - val_root_mean_squared_error: 0.8204\n",
      "Epoch 22/50\n",
      "391/391 [==============================] - 1s 2ms/step - loss: 0.1583 - root_mean_squared_error: 0.3979 - val_loss: 0.6656 - val_root_mean_squared_error: 0.8158\n",
      "Epoch 23/50\n",
      "391/391 [==============================] - 1s 2ms/step - loss: 0.1552 - root_mean_squared_error: 0.3939 - val_loss: 0.6767 - val_root_mean_squared_error: 0.8226\n",
      "Epoch 24/50\n",
      "391/391 [==============================] - 1s 2ms/step - loss: 0.1579 - root_mean_squared_error: 0.3973 - val_loss: 0.7091 - val_root_mean_squared_error: 0.8421\n",
      "Epoch 25/50\n",
      "391/391 [==============================] - 1s 2ms/step - loss: 0.1551 - root_mean_squared_error: 0.3939 - val_loss: 0.6748 - val_root_mean_squared_error: 0.8214\n",
      "Epoch 26/50\n",
      "391/391 [==============================] - 1s 2ms/step - loss: 0.1562 - root_mean_squared_error: 0.3952 - val_loss: 0.6399 - val_root_mean_squared_error: 0.7999\n",
      "Epoch 27/50\n",
      "391/391 [==============================] - 1s 2ms/step - loss: 0.1542 - root_mean_squared_error: 0.3927 - val_loss: 0.6686 - val_root_mean_squared_error: 0.8177\n",
      "Epoch 28/50\n",
      "391/391 [==============================] - 1s 2ms/step - loss: 0.1541 - root_mean_squared_error: 0.3925 - val_loss: 0.6710 - val_root_mean_squared_error: 0.8191\n",
      "Epoch 29/50\n",
      "391/391 [==============================] - 1s 2ms/step - loss: 0.1554 - root_mean_squared_error: 0.3942 - val_loss: 0.6609 - val_root_mean_squared_error: 0.8130\n",
      "Epoch 30/50\n",
      "391/391 [==============================] - 1s 2ms/step - loss: 0.1558 - root_mean_squared_error: 0.3947 - val_loss: 0.6644 - val_root_mean_squared_error: 0.8151\n",
      "Epoch 31/50\n",
      "391/391 [==============================] - 1s 2ms/step - loss: 0.1546 - root_mean_squared_error: 0.3932 - val_loss: 0.6710 - val_root_mean_squared_error: 0.8191\n",
      "Epoch 32/50\n",
      "391/391 [==============================] - 1s 2ms/step - loss: 0.1535 - root_mean_squared_error: 0.3919 - val_loss: 0.6798 - val_root_mean_squared_error: 0.8245\n",
      "Epoch 33/50\n",
      "391/391 [==============================] - 1s 2ms/step - loss: 0.1540 - root_mean_squared_error: 0.3924 - val_loss: 0.6938 - val_root_mean_squared_error: 0.8329\n",
      "Epoch 34/50\n",
      "391/391 [==============================] - 1s 2ms/step - loss: 0.1518 - root_mean_squared_error: 0.3896 - val_loss: 0.6206 - val_root_mean_squared_error: 0.7878\n",
      "Epoch 35/50\n",
      "391/391 [==============================] - 1s 2ms/step - loss: 0.1536 - root_mean_squared_error: 0.3919 - val_loss: 0.7235 - val_root_mean_squared_error: 0.8506\n",
      "Epoch 36/50\n",
      "391/391 [==============================] - 1s 2ms/step - loss: 0.1516 - root_mean_squared_error: 0.3893 - val_loss: 0.6800 - val_root_mean_squared_error: 0.8246\n",
      "Epoch 37/50\n",
      "391/391 [==============================] - 1s 2ms/step - loss: 0.1525 - root_mean_squared_error: 0.3906 - val_loss: 0.7017 - val_root_mean_squared_error: 0.8377\n",
      "Epoch 38/50\n",
      "391/391 [==============================] - 1s 2ms/step - loss: 0.1495 - root_mean_squared_error: 0.3867 - val_loss: 0.7087 - val_root_mean_squared_error: 0.8419\n",
      "Epoch 39/50\n",
      "391/391 [==============================] - 1s 2ms/step - loss: 0.1500 - root_mean_squared_error: 0.3873 - val_loss: 0.7056 - val_root_mean_squared_error: 0.8400\n",
      "Epoch 40/50\n",
      "391/391 [==============================] - 1s 2ms/step - loss: 0.1542 - root_mean_squared_error: 0.3927 - val_loss: 0.7278 - val_root_mean_squared_error: 0.8531\n",
      "Epoch 41/50\n",
      "391/391 [==============================] - 1s 2ms/step - loss: 0.1520 - root_mean_squared_error: 0.3899 - val_loss: 0.7218 - val_root_mean_squared_error: 0.8496\n",
      "Epoch 42/50\n",
      "391/391 [==============================] - 1s 2ms/step - loss: 0.1480 - root_mean_squared_error: 0.3847 - val_loss: 0.7175 - val_root_mean_squared_error: 0.8471\n",
      "Epoch 43/50\n",
      "391/391 [==============================] - 1s 2ms/step - loss: 0.1495 - root_mean_squared_error: 0.3866 - val_loss: 0.7022 - val_root_mean_squared_error: 0.8380\n",
      "Epoch 44/50\n",
      "391/391 [==============================] - 1s 2ms/step - loss: 0.1513 - root_mean_squared_error: 0.3890 - val_loss: 0.7540 - val_root_mean_squared_error: 0.8683\n",
      "Epoch 45/50\n",
      "391/391 [==============================] - 1s 2ms/step - loss: 0.1486 - root_mean_squared_error: 0.3855 - val_loss: 0.8310 - val_root_mean_squared_error: 0.9116\n",
      "Epoch 46/50\n",
      "391/391 [==============================] - 1s 2ms/step - loss: 0.1590 - root_mean_squared_error: 0.3987 - val_loss: 0.7355 - val_root_mean_squared_error: 0.8576\n",
      "Epoch 47/50\n",
      "391/391 [==============================] - 1s 2ms/step - loss: 0.1481 - root_mean_squared_error: 0.3848 - val_loss: 0.6980 - val_root_mean_squared_error: 0.8355\n",
      "Epoch 48/50\n",
      "391/391 [==============================] - 1s 2ms/step - loss: 0.1488 - root_mean_squared_error: 0.3858 - val_loss: 0.6443 - val_root_mean_squared_error: 0.8027\n",
      "Epoch 49/50\n",
      "391/391 [==============================] - 1s 2ms/step - loss: 0.1478 - root_mean_squared_error: 0.3845 - val_loss: 0.7395 - val_root_mean_squared_error: 0.8599\n",
      "Epoch 50/50\n",
      "391/391 [==============================] - 1s 2ms/step - loss: 0.1448 - root_mean_squared_error: 0.3806 - val_loss: 0.6943 - val_root_mean_squared_error: 0.8333\n"
     ]
    }
   ],
   "source": [
    "norm_layer.adapt(X_train)\n",
    "history = model.fit(X_train,y_train, epochs=50, validation_data=(X_valid,y_valid))"
   ]
  },
  {
   "cell_type": "code",
   "execution_count": 35,
   "metadata": {},
   "outputs": [
    {
     "name": "stdout",
     "output_type": "stream",
     "text": [
      "125/125 [==============================] - 0s 1ms/step - loss: 1.1579 - root_mean_squared_error: 1.0761\n"
     ]
    }
   ],
   "source": [
    "mse, rmse = model.evaluate(X_test,y_test)"
   ]
  },
  {
   "cell_type": "code",
   "execution_count": 36,
   "metadata": {},
   "outputs": [
    {
     "name": "stdout",
     "output_type": "stream",
     "text": [
      "1/1 [==============================] - 0s 97ms/step\n",
      "[[1.3045514]\n",
      " [1.300267 ]\n",
      " [1.3498774]\n",
      " [1.4643035]\n",
      " [1.5187002]] [2.132 1.589 1.567 1.317 1.319]\n"
     ]
    }
   ],
   "source": [
    "y_pred = model.predict(X_test[:5])\n",
    "print(y_pred, y_test[:5])"
   ]
  },
  {
   "cell_type": "code",
   "execution_count": 37,
   "metadata": {},
   "outputs": [
    {
     "data": {
      "image/png": "[encoded data removed]",
      "text/plain": [
       "<Figure size 640x480 with 1 Axes>"
      ]
     },
     "metadata": {},
     "output_type": "display_data"
    }
   ],
   "source": [
    "import matplotlib.pyplot as plt\n",
    "\n",
    "pd.DataFrame(history.history).plot(style=[\"r--\", \"r--.\", \"b-\", \"b-*\"])\n",
    "plt.show()"
   ]
  },
  {
   "cell_type": "code",
   "execution_count": null,
   "metadata": {},
   "outputs": [],
   "source": []
  }
 ],
 "metadata": {
  "kernelspec": {
   "display_name": ".venv",
   "language": "python",
   "name": "python3"
  },
  "language_info": {
   "codemirror_mode": {
    "name": "ipython",
    "version": 3
   },
   "file_extension": ".py",
   "mimetype": "text/x-python",
   "name": "python",
   "nbconvert_exporter": "python",
   "pygments_lexer": "ipython3",
   "version": "3.10.6"
  },
  "orig_nbformat": 4
 },
 "nbformat": 4,
 "nbformat_minor": 2
}
