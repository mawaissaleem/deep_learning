{
 "cells": [
  {
   "cell_type": "code",
   "execution_count": 6,
   "metadata": {},
   "outputs": [
    {
     "name": "stdout",
     "output_type": "stream",
     "text": [
      "(15480, 8) (5160, 8)\n"
     ]
    }
   ],
   "source": [
    "from sklearn.datasets import fetch_california_housing\n",
    "from sklearn.model_selection import train_test_split\n",
    "import tensorflow as tf\n",
    "import numpy as np\n",
    "\n",
    "\n",
    "housing = fetch_california_housing()\n",
    "X_train_full, X_test, y_train, y_test = train_test_split(housing.data, housing.target, random_state=42)\n",
    "print(X_train_full.shape, X_test.shape)\n",
    "\n"
   ]
  },
  {
   "cell_type": "code",
   "execution_count": 12,
   "metadata": {},
   "outputs": [],
   "source": [
    "input_wide = tf.keras.layers.Input(shape=[5])\n",
    "input_deep = tf.keras.layers.Input(shape=[6])\n",
    "\n",
    "normalisation_layer_wide = tf.keras.layers.Normalization()\n",
    "normalisation_layer_deep = tf.keras.layers.Normalization()\n",
    "\n",
    "normalised_wide = normalisation_layer_wide(input_wide)\n",
    "normalised_deep = normalisation_layer_deep(input_deep)\n",
    "\n",
    "\n",
    "hidden_layer_1 = tf.keras.layers.Dense(30, activation=\"relu\")(normalised_deep)\n",
    "hidden_layer_2 = tf.keras.layers.Dense(30, activation=\"relu\")(hidden_layer_1)\n",
    "\n",
    "concat_layer = tf.keras.layers.Concatenate()\n",
    "concat = concat_layer([normalised_wide, hidden_layer_2])\n",
    "\n",
    "output_layer = tf.keras.layers.Dense(1)\n",
    "out = output_layer(concat)\n",
    "\n",
    "aux_output = tf.keras.layers.Dense(1)(hidden_layer_2)\n",
    "\n",
    "model = tf.keras.Model(inputs=[input_wide, input_deep], outputs=[out, aux_output])\n",
    "optimiser = tf.keras.optimizers.Adam(learning_rate=0.001)\n",
    "\n",
    "model.compile(loss=(\"mse\", \"mse\"), loss_weights=(0.9, 0.1) ,optimizer=optimiser, metrics=[\"RootMeanSquaredError\"])"
   ]
  },
  {
   "cell_type": "code",
   "execution_count": 13,
   "metadata": {},
   "outputs": [
    {
     "name": "stdout",
     "output_type": "stream",
     "text": [
      "Epoch 1/30\n",
      "484/484 [==============================] - 2s 2ms/step - loss: 1.3374 - dense_21_loss: 1.2775 - dense_22_loss: 1.8772 - dense_21_root_mean_squared_error: 1.1302 - dense_22_root_mean_squared_error: 1.3701\n",
      "Epoch 2/30\n",
      "484/484 [==============================] - 1s 2ms/step - loss: 0.5186 - dense_21_loss: 0.4852 - dense_22_loss: 0.8184 - dense_21_root_mean_squared_error: 0.6966 - dense_22_root_mean_squared_error: 0.9047\n",
      "Epoch 3/30\n",
      "484/484 [==============================] - 1s 2ms/step - loss: 0.4505 - dense_21_loss: 0.4279 - dense_22_loss: 0.6541 - dense_21_root_mean_squared_error: 0.6542 - dense_22_root_mean_squared_error: 0.8088\n",
      "Epoch 4/30\n",
      "484/484 [==============================] - 1s 2ms/step - loss: 0.4235 - dense_21_loss: 0.4049 - dense_22_loss: 0.5905 - dense_21_root_mean_squared_error: 0.6363 - dense_22_root_mean_squared_error: 0.7684\n",
      "Epoch 5/30\n",
      "484/484 [==============================] - 1s 2ms/step - loss: 0.4097 - dense_21_loss: 0.3932 - dense_22_loss: 0.5583 - dense_21_root_mean_squared_error: 0.6270 - dense_22_root_mean_squared_error: 0.7472\n",
      "Epoch 6/30\n",
      "484/484 [==============================] - 1s 2ms/step - loss: 0.3935 - dense_21_loss: 0.3784 - dense_22_loss: 0.5292 - dense_21_root_mean_squared_error: 0.6151 - dense_22_root_mean_squared_error: 0.7274\n",
      "Epoch 7/30\n",
      "484/484 [==============================] - 1s 2ms/step - loss: 0.3833 - dense_21_loss: 0.3697 - dense_22_loss: 0.5053 - dense_21_root_mean_squared_error: 0.6080 - dense_22_root_mean_squared_error: 0.7108\n",
      "Epoch 8/30\n",
      "484/484 [==============================] - 1s 2ms/step - loss: 0.3708 - dense_21_loss: 0.3588 - dense_22_loss: 0.4787 - dense_21_root_mean_squared_error: 0.5990 - dense_22_root_mean_squared_error: 0.6919\n",
      "Epoch 9/30\n",
      "484/484 [==============================] - 1s 2ms/step - loss: 0.3684 - dense_21_loss: 0.3579 - dense_22_loss: 0.4630 - dense_21_root_mean_squared_error: 0.5982 - dense_22_root_mean_squared_error: 0.6805\n",
      "Epoch 10/30\n",
      "484/484 [==============================] - 1s 2ms/step - loss: 0.3611 - dense_21_loss: 0.3514 - dense_22_loss: 0.4487 - dense_21_root_mean_squared_error: 0.5928 - dense_22_root_mean_squared_error: 0.6698\n",
      "Epoch 11/30\n",
      "484/484 [==============================] - 1s 2ms/step - loss: 0.3491 - dense_21_loss: 0.3405 - dense_22_loss: 0.4261 - dense_21_root_mean_squared_error: 0.5836 - dense_22_root_mean_squared_error: 0.6527\n",
      "Epoch 12/30\n",
      "484/484 [==============================] - 1s 2ms/step - loss: 0.3540 - dense_21_loss: 0.3457 - dense_22_loss: 0.4283 - dense_21_root_mean_squared_error: 0.5880 - dense_22_root_mean_squared_error: 0.6544\n",
      "Epoch 13/30\n",
      "484/484 [==============================] - 1s 2ms/step - loss: 0.3425 - dense_21_loss: 0.3349 - dense_22_loss: 0.4110 - dense_21_root_mean_squared_error: 0.5787 - dense_22_root_mean_squared_error: 0.6411\n",
      "Epoch 14/30\n",
      "484/484 [==============================] - 1s 2ms/step - loss: 0.3466 - dense_21_loss: 0.3389 - dense_22_loss: 0.4158 - dense_21_root_mean_squared_error: 0.5822 - dense_22_root_mean_squared_error: 0.6448\n",
      "Epoch 15/30\n",
      "484/484 [==============================] - 1s 2ms/step - loss: 0.3381 - dense_21_loss: 0.3311 - dense_22_loss: 0.4010 - dense_21_root_mean_squared_error: 0.5754 - dense_22_root_mean_squared_error: 0.6332\n",
      "Epoch 16/30\n",
      "484/484 [==============================] - 1s 2ms/step - loss: 0.3391 - dense_21_loss: 0.3319 - dense_22_loss: 0.4044 - dense_21_root_mean_squared_error: 0.5761 - dense_22_root_mean_squared_error: 0.6359\n",
      "Epoch 17/30\n",
      "484/484 [==============================] - 1s 2ms/step - loss: 0.3341 - dense_21_loss: 0.3277 - dense_22_loss: 0.3917 - dense_21_root_mean_squared_error: 0.5725 - dense_22_root_mean_squared_error: 0.6258\n",
      "Epoch 18/30\n",
      "484/484 [==============================] - 1s 2ms/step - loss: 0.3315 - dense_21_loss: 0.3249 - dense_22_loss: 0.3914 - dense_21_root_mean_squared_error: 0.5700 - dense_22_root_mean_squared_error: 0.6256\n",
      "Epoch 19/30\n",
      "484/484 [==============================] - 1s 2ms/step - loss: 0.3327 - dense_21_loss: 0.3265 - dense_22_loss: 0.3879 - dense_21_root_mean_squared_error: 0.5714 - dense_22_root_mean_squared_error: 0.6228\n",
      "Epoch 20/30\n",
      "484/484 [==============================] - 1s 2ms/step - loss: 0.3404 - dense_21_loss: 0.3334 - dense_22_loss: 0.4036 - dense_21_root_mean_squared_error: 0.5774 - dense_22_root_mean_squared_error: 0.6353\n",
      "Epoch 21/30\n",
      "484/484 [==============================] - 1s 2ms/step - loss: 0.3274 - dense_21_loss: 0.3212 - dense_22_loss: 0.3825 - dense_21_root_mean_squared_error: 0.5668 - dense_22_root_mean_squared_error: 0.6184\n",
      "Epoch 22/30\n",
      "484/484 [==============================] - 1s 2ms/step - loss: 0.3248 - dense_21_loss: 0.3186 - dense_22_loss: 0.3812 - dense_21_root_mean_squared_error: 0.5644 - dense_22_root_mean_squared_error: 0.6174\n",
      "Epoch 23/30\n",
      "484/484 [==============================] - 1s 2ms/step - loss: 0.3246 - dense_21_loss: 0.3184 - dense_22_loss: 0.3801 - dense_21_root_mean_squared_error: 0.5643 - dense_22_root_mean_squared_error: 0.6165\n",
      "Epoch 24/30\n",
      "484/484 [==============================] - 1s 2ms/step - loss: 0.3229 - dense_21_loss: 0.3172 - dense_22_loss: 0.3747 - dense_21_root_mean_squared_error: 0.5632 - dense_22_root_mean_squared_error: 0.6122\n",
      "Epoch 25/30\n",
      "484/484 [==============================] - 1s 2ms/step - loss: 0.3217 - dense_21_loss: 0.3156 - dense_22_loss: 0.3757 - dense_21_root_mean_squared_error: 0.5618 - dense_22_root_mean_squared_error: 0.6129\n",
      "Epoch 26/30\n",
      "484/484 [==============================] - 1s 2ms/step - loss: 0.3242 - dense_21_loss: 0.3182 - dense_22_loss: 0.3786 - dense_21_root_mean_squared_error: 0.5641 - dense_22_root_mean_squared_error: 0.6153\n",
      "Epoch 27/30\n",
      "484/484 [==============================] - 1s 2ms/step - loss: 0.3238 - dense_21_loss: 0.3181 - dense_22_loss: 0.3750 - dense_21_root_mean_squared_error: 0.5640 - dense_22_root_mean_squared_error: 0.6124\n",
      "Epoch 28/30\n",
      "484/484 [==============================] - 1s 2ms/step - loss: 0.3174 - dense_21_loss: 0.3117 - dense_22_loss: 0.3691 - dense_21_root_mean_squared_error: 0.5583 - dense_22_root_mean_squared_error: 0.6075\n",
      "Epoch 29/30\n",
      "484/484 [==============================] - 1s 2ms/step - loss: 0.3193 - dense_21_loss: 0.3136 - dense_22_loss: 0.3712 - dense_21_root_mean_squared_error: 0.5600 - dense_22_root_mean_squared_error: 0.6093\n",
      "Epoch 30/30\n",
      "484/484 [==============================] - 1s 2ms/step - loss: 0.3173 - dense_21_loss: 0.3115 - dense_22_loss: 0.3691 - dense_21_root_mean_squared_error: 0.5581 - dense_22_root_mean_squared_error: 0.6075\n"
     ]
    }
   ],
   "source": [
    "X_train_wide, X_train_deep = X_train_full[:, :5], X_train_full[:, 2:]\n",
    "X_test_wide, X_test_deep = X_test[: :5], X_test[:, 2:]\n",
    "\n",
    "normalisation_layer_wide.adapt(X_train_wide)\n",
    "normalisation_layer_deep.adapt(X_train_deep)\n",
    "\n",
    "history = model.fit((X_train_wide, X_train_deep), (y_train, y_train), epochs=30)"
   ]
  },
  {
   "cell_type": "code",
   "execution_count": null,
   "metadata": {},
   "outputs": [],
   "source": []
  }
 ],
 "metadata": {
  "kernelspec": {
   "display_name": ".venv",
   "language": "python",
   "name": "python3"
  },
  "language_info": {
   "codemirror_mode": {
    "name": "ipython",
    "version": 3
   },
   "file_extension": ".py",
   "mimetype": "text/x-python",
   "name": "python",
   "nbconvert_exporter": "python",
   "pygments_lexer": "ipython3",
   "version": "3.10.12"
  },
  "orig_nbformat": 4
 },
 "nbformat": 4,
 "nbformat_minor": 2
}
