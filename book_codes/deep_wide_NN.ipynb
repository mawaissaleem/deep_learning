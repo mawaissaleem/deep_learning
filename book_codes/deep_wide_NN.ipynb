{
 "cells": [
  {
   "cell_type": "code",
   "execution_count": 1,
   "metadata": {},
   "outputs": [
    {
     "name": "stderr",
     "output_type": "stream",
     "text": [
      "2023-07-30 22:27:19.851273: I tensorflow/tsl/cuda/cudart_stub.cc:28] Could not find cuda drivers on your machine, GPU will not be used.\n",
      "2023-07-30 22:27:20.306253: I tensorflow/tsl/cuda/cudart_stub.cc:28] Could not find cuda drivers on your machine, GPU will not be used.\n",
      "2023-07-30 22:27:22.120999: W tensorflow/compiler/tf2tensorrt/utils/py_utils.cc:38] TF-TRT Warning: Could not find TensorRT\n"
     ]
    }
   ],
   "source": [
    "import tensorflow as tf\n",
    "import numpy as np\n",
    "from sklearn.datasets import fetch_california_housing\n",
    "from sklearn.model_selection import train_test_split"
   ]
  },
  {
   "cell_type": "code",
   "execution_count": 2,
   "metadata": {},
   "outputs": [
    {
     "name": "stdout",
     "output_type": "stream",
     "text": [
      "(15480, 8) (5160, 8)\n"
     ]
    }
   ],
   "source": [
    "housing = fetch_california_housing()\n",
    "X_train_full, X_test, y_train_full, y_test = train_test_split(housing.data, housing.target, random_state=42)\n",
    "print(X_train_full.shape, X_test.shape)"
   ]
  },
  {
   "cell_type": "markdown",
   "metadata": {},
   "source": [
    "***layers***"
   ]
  },
  {
   "cell_type": "code",
   "execution_count": 4,
   "metadata": {},
   "outputs": [],
   "source": [
    "normalisation_layer = tf.keras.layers.Normalization()\n",
    "hidden_layer_1 = tf.keras.layers.Dense(30, activation=\"relu\")\n",
    "hidden_layer_2 = tf.keras.layers.Dense(30, activation=\"relu\")\n",
    "concat_layer = tf.keras.layers.Concatenate()\n",
    "output_layer = tf.keras.layers.Dense(1)"
   ]
  },
  {
   "cell_type": "code",
   "execution_count": 7,
   "metadata": {},
   "outputs": [],
   "source": [
    "input_layer = tf.keras.layers.Input(shape=X_train_full.shape[1:])\n",
    "normalised = normalisation_layer(input_layer)\n",
    "hidden1 = hidden_layer_1(normalised)\n",
    "hidden2 = hidden_layer_2(hidden1)\n",
    "concat = concat_layer([normalised,hidden2])\n",
    "output = output_layer(concat)\n"
   ]
  },
  {
   "cell_type": "markdown",
   "metadata": {},
   "source": [
    "***Compiling model***"
   ]
  },
  {
   "cell_type": "code",
   "execution_count": 8,
   "metadata": {},
   "outputs": [],
   "source": [
    "model = tf.keras.Model(inputs=[input_layer], outputs=[output])"
   ]
  },
  {
   "cell_type": "code",
   "execution_count": 9,
   "metadata": {},
   "outputs": [],
   "source": [
    "optimiser = tf.keras.optimizers.Adam(learning_rate=0.001)"
   ]
  },
  {
   "cell_type": "code",
   "execution_count": 12,
   "metadata": {},
   "outputs": [],
   "source": [
    "model.compile(loss=\"mse\", optimizer=optimiser, metrics=[\"RootMeanSquaredError\"])"
   ]
  },
  {
   "cell_type": "code",
   "execution_count": 13,
   "metadata": {},
   "outputs": [
    {
     "name": "stdout",
     "output_type": "stream",
     "text": [
      "Epoch 1/30\n",
      "484/484 [==============================] - 2s 2ms/step - loss: 1.4225 - root_mean_squared_error: 1.1927\n",
      "Epoch 2/30\n",
      "484/484 [==============================] - 1s 2ms/step - loss: 0.5274 - root_mean_squared_error: 0.7262\n",
      "Epoch 3/30\n",
      "484/484 [==============================] - 1s 2ms/step - loss: 0.4218 - root_mean_squared_error: 0.6495\n",
      "Epoch 4/30\n",
      "484/484 [==============================] - 1s 2ms/step - loss: 0.3913 - root_mean_squared_error: 0.6256\n",
      "Epoch 5/30\n",
      "484/484 [==============================] - 1s 2ms/step - loss: 0.3835 - root_mean_squared_error: 0.6193\n",
      "Epoch 6/30\n",
      "484/484 [==============================] - 1s 2ms/step - loss: 0.3640 - root_mean_squared_error: 0.6033\n",
      "Epoch 7/30\n",
      "484/484 [==============================] - 1s 2ms/step - loss: 0.3519 - root_mean_squared_error: 0.5932\n",
      "Epoch 8/30\n",
      "484/484 [==============================] - 1s 2ms/step - loss: 0.3487 - root_mean_squared_error: 0.5905\n",
      "Epoch 9/30\n",
      "484/484 [==============================] - 1s 2ms/step - loss: 0.3370 - root_mean_squared_error: 0.5805\n",
      "Epoch 10/30\n",
      "484/484 [==============================] - 1s 2ms/step - loss: 0.3321 - root_mean_squared_error: 0.5763\n",
      "Epoch 11/30\n",
      "484/484 [==============================] - 1s 2ms/step - loss: 0.3271 - root_mean_squared_error: 0.5720\n",
      "Epoch 12/30\n",
      "484/484 [==============================] - 1s 2ms/step - loss: 0.3370 - root_mean_squared_error: 0.5805\n",
      "Epoch 13/30\n",
      "484/484 [==============================] - 1s 2ms/step - loss: 0.3159 - root_mean_squared_error: 0.5620\n",
      "Epoch 14/30\n",
      "484/484 [==============================] - 1s 2ms/step - loss: 0.3182 - root_mean_squared_error: 0.5641\n",
      "Epoch 15/30\n",
      "484/484 [==============================] - 1s 1ms/step - loss: 0.3142 - root_mean_squared_error: 0.5605\n",
      "Epoch 16/30\n",
      "484/484 [==============================] - 1s 2ms/step - loss: 0.3129 - root_mean_squared_error: 0.5594\n",
      "Epoch 17/30\n",
      "484/484 [==============================] - 1s 2ms/step - loss: 0.3099 - root_mean_squared_error: 0.5567\n",
      "Epoch 18/30\n",
      "484/484 [==============================] - 1s 2ms/step - loss: 0.3085 - root_mean_squared_error: 0.5554\n",
      "Epoch 19/30\n",
      "484/484 [==============================] - 1s 1ms/step - loss: 0.3140 - root_mean_squared_error: 0.5604\n",
      "Epoch 20/30\n",
      "484/484 [==============================] - 1s 1ms/step - loss: 0.2994 - root_mean_squared_error: 0.5472\n",
      "Epoch 21/30\n",
      "484/484 [==============================] - 1s 2ms/step - loss: 0.2992 - root_mean_squared_error: 0.5470\n",
      "Epoch 22/30\n",
      "484/484 [==============================] - 1s 2ms/step - loss: 0.3044 - root_mean_squared_error: 0.5517\n",
      "Epoch 23/30\n",
      "484/484 [==============================] - 1s 2ms/step - loss: 0.3005 - root_mean_squared_error: 0.5482\n",
      "Epoch 24/30\n",
      "484/484 [==============================] - 1s 2ms/step - loss: 0.2945 - root_mean_squared_error: 0.5426\n",
      "Epoch 25/30\n",
      "484/484 [==============================] - 1s 1ms/step - loss: 0.3123 - root_mean_squared_error: 0.5589\n",
      "Epoch 26/30\n",
      "484/484 [==============================] - 1s 2ms/step - loss: 0.3021 - root_mean_squared_error: 0.5497\n",
      "Epoch 27/30\n",
      "484/484 [==============================] - 1s 2ms/step - loss: 0.2981 - root_mean_squared_error: 0.5460\n",
      "Epoch 28/30\n",
      "484/484 [==============================] - 1s 2ms/step - loss: 0.2901 - root_mean_squared_error: 0.5386\n",
      "Epoch 29/30\n",
      "484/484 [==============================] - 1s 2ms/step - loss: 0.2944 - root_mean_squared_error: 0.5426\n",
      "Epoch 30/30\n",
      "484/484 [==============================] - 1s 2ms/step - loss: 0.2920 - root_mean_squared_error: 0.5404\n"
     ]
    }
   ],
   "source": [
    "normalisation_layer.adapt(X_train_full)\n",
    "history = model.fit(X_train_full, y_train_full, epochs=30)"
   ]
  },
  {
   "cell_type": "code",
   "execution_count": 14,
   "metadata": {},
   "outputs": [
    {
     "name": "stdout",
     "output_type": "stream",
     "text": [
      "162/162 [==============================] - 0s 1ms/step - loss: 0.2928 - root_mean_squared_error: 0.5411\n"
     ]
    }
   ],
   "source": [
    "mse_test = model.evaluate(X_test, y_test)"
   ]
  },
  {
   "cell_type": "code",
   "execution_count": 18,
   "metadata": {},
   "outputs": [
    {
     "data": {
      "text/plain": [
       "{'loss': [1.4224971532821655,\n",
       "  0.5274109244346619,\n",
       "  0.42179203033447266,\n",
       "  0.39132359623908997,\n",
       "  0.38353630900382996,\n",
       "  0.3639538586139679,\n",
       "  0.3518889844417572,\n",
       "  0.3486613631248474,\n",
       "  0.33699074387550354,\n",
       "  0.3321042060852051,\n",
       "  0.3271322250366211,\n",
       "  0.3369944989681244,\n",
       "  0.31586241722106934,\n",
       "  0.31817683577537537,\n",
       "  0.3141656219959259,\n",
       "  0.312902569770813,\n",
       "  0.3098909854888916,\n",
       "  0.3084764778614044,\n",
       "  0.3140026032924652,\n",
       "  0.29944488406181335,\n",
       "  0.29917991161346436,\n",
       "  0.3043655455112457,\n",
       "  0.3004910945892334,\n",
       "  0.29446014761924744,\n",
       "  0.3123199939727783,\n",
       "  0.3021336495876312,\n",
       "  0.29809311032295227,\n",
       "  0.2901405692100525,\n",
       "  0.29438814520835876,\n",
       "  0.29201480746269226],\n",
       " 'root_mean_squared_error': [1.1926848888397217,\n",
       "  0.7262306213378906,\n",
       "  0.649455189704895,\n",
       "  0.625558614730835,\n",
       "  0.6193031072616577,\n",
       "  0.6032859086990356,\n",
       "  0.5932022929191589,\n",
       "  0.5904755592346191,\n",
       "  0.5805090665817261,\n",
       "  0.5762848258018494,\n",
       "  0.5719547271728516,\n",
       "  0.580512285232544,\n",
       "  0.5620163679122925,\n",
       "  0.5640716552734375,\n",
       "  0.5605047941207886,\n",
       "  0.5593769550323486,\n",
       "  0.5566785335540771,\n",
       "  0.5554065704345703,\n",
       "  0.5603593587875366,\n",
       "  0.5472155809402466,\n",
       "  0.5469734072685242,\n",
       "  0.551693320274353,\n",
       "  0.5481706857681274,\n",
       "  0.542641818523407,\n",
       "  0.5588559508323669,\n",
       "  0.5496668815612793,\n",
       "  0.5459790229797363,\n",
       "  0.5386469960212708,\n",
       "  0.542575478553772,\n",
       "  0.5403839349746704]}"
      ]
     },
     "execution_count": 18,
     "metadata": {},
     "output_type": "execute_result"
    }
   ],
   "source": [
    "history.history"
   ]
  },
  {
   "cell_type": "code",
   "execution_count": null,
   "metadata": {},
   "outputs": [],
   "source": []
  }
 ],
 "metadata": {
  "kernelspec": {
   "display_name": ".venv",
   "language": "python",
   "name": "python3"
  },
  "language_info": {
   "codemirror_mode": {
    "name": "ipython",
    "version": 3
   },
   "file_extension": ".py",
   "mimetype": "text/x-python",
   "name": "python",
   "nbconvert_exporter": "python",
   "pygments_lexer": "ipython3",
   "version": "3.10.6"
  },
  "orig_nbformat": 4
 },
 "nbformat": 4,
 "nbformat_minor": 2
}
