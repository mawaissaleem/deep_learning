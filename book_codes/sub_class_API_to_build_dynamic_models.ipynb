{
 "cells": [
  {
   "cell_type": "code",
   "execution_count": 1,
   "metadata": {},
   "outputs": [
    {
     "name": "stderr",
     "output_type": "stream",
     "text": [
      "2023-08-07 03:20:44.868844: I tensorflow/tsl/cuda/cudart_stub.cc:28] Could not find cuda drivers on your machine, GPU will not be used.\n",
      "2023-08-07 03:20:45.340373: I tensorflow/tsl/cuda/cudart_stub.cc:28] Could not find cuda drivers on your machine, GPU will not be used.\n",
      "2023-08-07 03:20:46.928585: W tensorflow/compiler/tf2tensorrt/utils/py_utils.cc:38] TF-TRT Warning: Could not find TensorRT\n"
     ]
    },
    {
     "name": "stdout",
     "output_type": "stream",
     "text": [
      "(15480, 8) (5160, 8)\n"
     ]
    }
   ],
   "source": [
    "from sklearn.datasets import fetch_california_housing\n",
    "from sklearn.model_selection import train_test_split\n",
    "import tensorflow as tf\n",
    "import numpy as np\n",
    "\n",
    "\n",
    "housing = fetch_california_housing()\n",
    "X_train_full, X_test, y_train, y_test = train_test_split(housing.data, housing.target, random_state=42)\n",
    "print(X_train_full.shape, X_test.shape)\n",
    "\n"
   ]
  },
  {
   "cell_type": "code",
   "execution_count": 2,
   "metadata": {},
   "outputs": [
    {
     "name": "stderr",
     "output_type": "stream",
     "text": [
      "2023-08-07 03:35:48.354840: I tensorflow/compiler/xla/stream_executor/cuda/cuda_gpu_executor.cc:995] successful NUMA node read from SysFS had negative value (-1), but there must be at least one NUMA node, so returning NUMA node zero. See more at https://github.com/torvalds/linux/blob/v6.0/Documentation/ABI/testing/sysfs-bus-pci#L344-L355\n",
      "2023-08-07 03:35:48.356052: W tensorflow/core/common_runtime/gpu/gpu_device.cc:1960] Cannot dlopen some GPU libraries. Please make sure the missing libraries mentioned above are installed properly if you would like to use GPU. Follow the guide at https://www.tensorflow.org/install/gpu for how to download and setup the required libraries for your platform.\n",
      "Skipping registering GPU devices...\n"
     ]
    }
   ],
   "source": [
    "class DeepAndWide(tf.keras.Model):\n",
    "    def __init__(self, units=30, activation=\"relu\", **kwargs):\n",
    "        super().__init__(**kwargs)\n",
    "\n",
    "        self.norm_layer_wide = tf.keras.layers.Normalization()\n",
    "        self.norm_layer_deep =  tf.keras.layers.Normalization()\n",
    "        self.hidden1 = tf.keras.layers.Dense(units, activation)\n",
    "        self.hidden2 = tf.keras.layers.Dense(units, activation)\n",
    "        self.main_output = tf.keras.layers.Dense(1)\n",
    "        self.aux_output = tf.keras.layers.Dense(1)\n",
    "\n",
    "    def call(self, inputs):\n",
    "        input_wide, input_deep = inputs\n",
    "        norm_wide = self.norm_layer_wide(input_wide)\n",
    "        norm_deep = self.norm_layer_deep(input_deep)\n",
    "        hidden1 = self.hidden1(norm_deep)\n",
    "        hidden2 = self.hidden2(hidden1)\n",
    "        concat = tf.keras.layers.concatenate([norm_wide, hidden2])\n",
    "        output = self.main_output(concat)\n",
    "        aux_output = self.aux_output(hidden2)\n",
    "\n",
    "        return output, aux_output\n",
    "    \n",
    "model = DeepAndWide(30, \"relu\", name=\"my_model\")\n",
    "\n",
    "model.norm_layer_wide.adapt(X_train_full)\n",
    "model.norm_layer_deep.adapt(X_train_full)\n",
    "\n",
    "optimiser = tf.keras.optimizers.Adam(learning_rate=0.001)\n",
    "\n",
    "model.compile(loss=(\"mse\", \"mse\"), loss_weights=(0.9, 0.1) ,optimizer=optimiser, metrics=[\"RootMeanSquaredError\"])"
   ]
  },
  {
   "cell_type": "code",
   "execution_count": 3,
   "metadata": {},
   "outputs": [
    {
     "name": "stdout",
     "output_type": "stream",
     "text": [
      "Epoch 1/30\n",
      "484/484 [==============================] - 2s 2ms/step - loss: 1.2614 - output_1_loss: 1.2394 - output_2_loss: 1.4587 - output_1_root_mean_squared_error: 1.1133 - output_2_root_mean_squared_error: 1.2078\n",
      "Epoch 2/30\n",
      "484/484 [==============================] - 1s 2ms/step - loss: 0.4684 - output_1_loss: 0.4522 - output_2_loss: 0.6146 - output_1_root_mean_squared_error: 0.6724 - output_2_root_mean_squared_error: 0.7839\n",
      "Epoch 3/30\n",
      "484/484 [==============================] - 1s 2ms/step - loss: 0.4030 - output_1_loss: 0.3989 - output_2_loss: 0.4401 - output_1_root_mean_squared_error: 0.6315 - output_2_root_mean_squared_error: 0.6634\n",
      "Epoch 4/30\n",
      "484/484 [==============================] - 1s 2ms/step - loss: 0.3848 - output_1_loss: 0.3828 - output_2_loss: 0.4035 - output_1_root_mean_squared_error: 0.6187 - output_2_root_mean_squared_error: 0.6352\n",
      "Epoch 5/30\n",
      "484/484 [==============================] - 1s 2ms/step - loss: 0.3655 - output_1_loss: 0.3643 - output_2_loss: 0.3756 - output_1_root_mean_squared_error: 0.6036 - output_2_root_mean_squared_error: 0.6129\n",
      "Epoch 6/30\n",
      "484/484 [==============================] - 1s 2ms/step - loss: 0.3621 - output_1_loss: 0.3613 - output_2_loss: 0.3690 - output_1_root_mean_squared_error: 0.6011 - output_2_root_mean_squared_error: 0.6074\n",
      "Epoch 7/30\n",
      "484/484 [==============================] - 1s 2ms/step - loss: 0.3507 - output_1_loss: 0.3497 - output_2_loss: 0.3595 - output_1_root_mean_squared_error: 0.5913 - output_2_root_mean_squared_error: 0.5996\n",
      "Epoch 8/30\n",
      "484/484 [==============================] - 1s 2ms/step - loss: 0.3451 - output_1_loss: 0.3442 - output_2_loss: 0.3533 - output_1_root_mean_squared_error: 0.5867 - output_2_root_mean_squared_error: 0.5944\n",
      "Epoch 9/30\n",
      "484/484 [==============================] - 1s 2ms/step - loss: 0.3328 - output_1_loss: 0.3319 - output_2_loss: 0.3408 - output_1_root_mean_squared_error: 0.5761 - output_2_root_mean_squared_error: 0.5838\n",
      "Epoch 10/30\n",
      "484/484 [==============================] - 1s 2ms/step - loss: 0.3339 - output_1_loss: 0.3335 - output_2_loss: 0.3380 - output_1_root_mean_squared_error: 0.5775 - output_2_root_mean_squared_error: 0.5814\n",
      "Epoch 11/30\n",
      "484/484 [==============================] - 1s 2ms/step - loss: 0.3225 - output_1_loss: 0.3217 - output_2_loss: 0.3296 - output_1_root_mean_squared_error: 0.5672 - output_2_root_mean_squared_error: 0.5741\n",
      "Epoch 12/30\n",
      "484/484 [==============================] - 1s 2ms/step - loss: 0.3173 - output_1_loss: 0.3167 - output_2_loss: 0.3226 - output_1_root_mean_squared_error: 0.5628 - output_2_root_mean_squared_error: 0.5680\n",
      "Epoch 13/30\n",
      "484/484 [==============================] - 1s 2ms/step - loss: 0.3130 - output_1_loss: 0.3124 - output_2_loss: 0.3184 - output_1_root_mean_squared_error: 0.5589 - output_2_root_mean_squared_error: 0.5642\n",
      "Epoch 14/30\n",
      "484/484 [==============================] - 1s 2ms/step - loss: 0.3060 - output_1_loss: 0.3054 - output_2_loss: 0.3113 - output_1_root_mean_squared_error: 0.5527 - output_2_root_mean_squared_error: 0.5580\n",
      "Epoch 15/30\n",
      "484/484 [==============================] - 1s 2ms/step - loss: 0.3084 - output_1_loss: 0.3082 - output_2_loss: 0.3108 - output_1_root_mean_squared_error: 0.5551 - output_2_root_mean_squared_error: 0.5575\n",
      "Epoch 16/30\n",
      "484/484 [==============================] - 1s 2ms/step - loss: 0.3026 - output_1_loss: 0.3021 - output_2_loss: 0.3068 - output_1_root_mean_squared_error: 0.5496 - output_2_root_mean_squared_error: 0.5539\n",
      "Epoch 17/30\n",
      "484/484 [==============================] - 1s 2ms/step - loss: 0.3023 - output_1_loss: 0.3022 - output_2_loss: 0.3034 - output_1_root_mean_squared_error: 0.5497 - output_2_root_mean_squared_error: 0.5508\n",
      "Epoch 18/30\n",
      "484/484 [==============================] - 1s 2ms/step - loss: 0.2973 - output_1_loss: 0.2971 - output_2_loss: 0.2999 - output_1_root_mean_squared_error: 0.5450 - output_2_root_mean_squared_error: 0.5476\n",
      "Epoch 19/30\n",
      "484/484 [==============================] - 1s 2ms/step - loss: 0.3040 - output_1_loss: 0.3042 - output_2_loss: 0.3027 - output_1_root_mean_squared_error: 0.5515 - output_2_root_mean_squared_error: 0.5502\n",
      "Epoch 20/30\n",
      "484/484 [==============================] - 1s 2ms/step - loss: 0.3008 - output_1_loss: 0.3009 - output_2_loss: 0.2999 - output_1_root_mean_squared_error: 0.5485 - output_2_root_mean_squared_error: 0.5476\n",
      "Epoch 21/30\n",
      "484/484 [==============================] - 1s 2ms/step - loss: 0.2937 - output_1_loss: 0.2936 - output_2_loss: 0.2947 - output_1_root_mean_squared_error: 0.5419 - output_2_root_mean_squared_error: 0.5429\n",
      "Epoch 22/30\n",
      "484/484 [==============================] - 1s 2ms/step - loss: 0.2921 - output_1_loss: 0.2921 - output_2_loss: 0.2925 - output_1_root_mean_squared_error: 0.5405 - output_2_root_mean_squared_error: 0.5408\n",
      "Epoch 23/30\n",
      "484/484 [==============================] - 1s 2ms/step - loss: 0.2918 - output_1_loss: 0.2917 - output_2_loss: 0.2928 - output_1_root_mean_squared_error: 0.5401 - output_2_root_mean_squared_error: 0.5411\n",
      "Epoch 24/30\n",
      "484/484 [==============================] - 1s 2ms/step - loss: 0.2895 - output_1_loss: 0.2894 - output_2_loss: 0.2906 - output_1_root_mean_squared_error: 0.5379 - output_2_root_mean_squared_error: 0.5391\n",
      "Epoch 25/30\n",
      "484/484 [==============================] - 1s 2ms/step - loss: 0.2940 - output_1_loss: 0.2943 - output_2_loss: 0.2918 - output_1_root_mean_squared_error: 0.5425 - output_2_root_mean_squared_error: 0.5402\n",
      "Epoch 26/30\n",
      "484/484 [==============================] - 1s 2ms/step - loss: 0.2880 - output_1_loss: 0.2880 - output_2_loss: 0.2884 - output_1_root_mean_squared_error: 0.5367 - output_2_root_mean_squared_error: 0.5370\n",
      "Epoch 27/30\n",
      "484/484 [==============================] - 1s 2ms/step - loss: 0.2863 - output_1_loss: 0.2860 - output_2_loss: 0.2895 - output_1_root_mean_squared_error: 0.5348 - output_2_root_mean_squared_error: 0.5380\n",
      "Epoch 28/30\n",
      "484/484 [==============================] - 1s 2ms/step - loss: 0.2869 - output_1_loss: 0.2868 - output_2_loss: 0.2880 - output_1_root_mean_squared_error: 0.5355 - output_2_root_mean_squared_error: 0.5367\n",
      "Epoch 29/30\n",
      "484/484 [==============================] - 1s 2ms/step - loss: 0.2849 - output_1_loss: 0.2848 - output_2_loss: 0.2852 - output_1_root_mean_squared_error: 0.5337 - output_2_root_mean_squared_error: 0.5341\n",
      "Epoch 30/30\n",
      "484/484 [==============================] - 1s 2ms/step - loss: 0.2824 - output_1_loss: 0.2822 - output_2_loss: 0.2836 - output_1_root_mean_squared_error: 0.5313 - output_2_root_mean_squared_error: 0.5325\n"
     ]
    },
    {
     "data": {
      "text/plain": [
       "<keras.src.callbacks.History at 0x7fcbf2eb08e0>"
      ]
     },
     "execution_count": 3,
     "metadata": {},
     "output_type": "execute_result"
    }
   ],
   "source": [
    "model.fit((X_train_full,X_train_full), (y_train, y_train) ,epochs=30 )"
   ]
  },
  {
   "cell_type": "code",
   "execution_count": 6,
   "metadata": {},
   "outputs": [
    {
     "name": "stdout",
     "output_type": "stream",
     "text": [
      "162/162 [==============================] - 0s 2ms/step - loss: 0.2982 - output_1_loss: 0.2981 - output_2_loss: 0.2992 - output_1_root_mean_squared_error: 0.5460 - output_2_root_mean_squared_error: 0.5470\n"
     ]
    }
   ],
   "source": [
    "eval_results = model.evaluate((X_test,X_test), (y_test, y_test))"
   ]
  },
  {
   "cell_type": "code",
   "execution_count": 8,
   "metadata": {},
   "outputs": [
    {
     "name": "stdout",
     "output_type": "stream",
     "text": [
      "loss main_output:  0.2982213795185089\n",
      "RMSE main_output:  0.29811304807662964\n",
      "loss aux_output:  0.2991962730884552\n",
      "RMSE aux_output:  0.5459973216056824\n"
     ]
    }
   ],
   "source": [
    "print(\"loss main_output: \", eval_results[0])\n",
    "print(\"RMSE main_output: \", eval_results[1])\n",
    "print(\"loss aux_output: \", eval_results[2])\n",
    "print(\"RMSE aux_output: \", eval_results[3])"
   ]
  },
  {
   "cell_type": "code",
   "execution_count": null,
   "metadata": {},
   "outputs": [],
   "source": []
  }
 ],
 "metadata": {
  "kernelspec": {
   "display_name": ".venv",
   "language": "python",
   "name": "python3"
  },
  "language_info": {
   "codemirror_mode": {
    "name": "ipython",
    "version": 3
   },
   "file_extension": ".py",
   "mimetype": "text/x-python",
   "name": "python",
   "nbconvert_exporter": "python",
   "pygments_lexer": "ipython3",
   "version": "3.10.12"
  },
  "orig_nbformat": 4
 },
 "nbformat": 4,
 "nbformat_minor": 2
}
