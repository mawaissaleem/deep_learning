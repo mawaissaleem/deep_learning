{
 "cells": [
  {
   "cell_type": "code",
   "execution_count": 1,
   "metadata": {},
   "outputs": [
    {
     "name": "stderr",
     "output_type": "stream",
     "text": [
      "2023-08-01 02:56:00.424248: I tensorflow/tsl/cuda/cudart_stub.cc:28] Could not find cuda drivers on your machine, GPU will not be used.\n",
      "2023-08-01 02:56:00.488968: I tensorflow/tsl/cuda/cudart_stub.cc:28] Could not find cuda drivers on your machine, GPU will not be used.\n",
      "2023-08-01 02:56:01.559304: W tensorflow/compiler/tf2tensorrt/utils/py_utils.cc:38] TF-TRT Warning: Could not find TensorRT\n"
     ]
    }
   ],
   "source": [
    "from sklearn.datasets import fetch_california_housing\n",
    "from sklearn.model_selection import train_test_split\n",
    "import tensorflow as tf\n",
    "import numpy as np"
   ]
  },
  {
   "cell_type": "code",
   "execution_count": 2,
   "metadata": {},
   "outputs": [
    {
     "name": "stdout",
     "output_type": "stream",
     "text": [
      "(15480, 8) (5160, 8)\n"
     ]
    }
   ],
   "source": [
    "housing = fetch_california_housing()\n",
    "X_train_full, X_test, y_train, y_test = train_test_split(housing.data, housing.target, random_state=42)\n",
    "print(X_train_full.shape, X_test.shape)"
   ]
  },
  {
   "cell_type": "markdown",
   "metadata": {},
   "source": [
    "***model layers***"
   ]
  },
  {
   "cell_type": "code",
   "execution_count": 6,
   "metadata": {},
   "outputs": [],
   "source": [
    "input_wide = tf.keras.layers.Input(shape=[5])\n",
    "input_deep = tf.keras.layers.Input(shape=[6])\n",
    "\n",
    "normalisation_layer_wide = tf.keras.layers.Normalization()\n",
    "normalisation_layer_deep = tf.keras.layers.Normalization()\n",
    "\n",
    "normalised_wide = normalisation_layer_wide(input_wide)\n",
    "normalised_deep = normalisation_layer_deep(input_deep)\n",
    "\n",
    "\n",
    "hidden_layer_1 = tf.keras.layers.Dense(30, activation=\"relu\")(normalised_deep)\n",
    "hidden_layer_2 = tf.keras.layers.Dense(30, activation=\"relu\")(hidden_layer_1)\n",
    "\n",
    "concat_layer = tf.keras.layers.Concatenate()\n",
    "concat = concat_layer([normalised_wide, hidden_layer_2])\n",
    "\n",
    "output_layer = tf.keras.layers.Dense(1)\n",
    "out = output_layer(concat)\n",
    "\n",
    "model = tf.keras.Model(inputs=[input_wide, input_deep], outputs=[out])\n",
    "optimiser = tf.keras.optimizers.Adam(learning_rate=0.001)\n",
    "\n",
    "model.compile(loss=\"mse\", optimizer=optimiser, metrics=[\"RootMeanSquaredError\"])"
   ]
  },
  {
   "cell_type": "code",
   "execution_count": 7,
   "metadata": {},
   "outputs": [
    {
     "name": "stdout",
     "output_type": "stream",
     "text": [
      "Epoch 1/30\n",
      "484/484 [==============================] - 2s 2ms/step - loss: 1.1552 - root_mean_squared_error: 1.0748\n",
      "Epoch 2/30\n",
      "484/484 [==============================] - 1s 2ms/step - loss: 0.4683 - root_mean_squared_error: 0.6843\n",
      "Epoch 3/30\n",
      "484/484 [==============================] - 1s 2ms/step - loss: 0.4227 - root_mean_squared_error: 0.6502\n",
      "Epoch 4/30\n",
      "484/484 [==============================] - 1s 2ms/step - loss: 0.4074 - root_mean_squared_error: 0.6383\n",
      "Epoch 5/30\n",
      "484/484 [==============================] - 1s 2ms/step - loss: 0.3941 - root_mean_squared_error: 0.6278\n",
      "Epoch 6/30\n",
      "484/484 [==============================] - 1s 2ms/step - loss: 0.3778 - root_mean_squared_error: 0.6147\n",
      "Epoch 7/30\n",
      "484/484 [==============================] - 1s 2ms/step - loss: 0.3655 - root_mean_squared_error: 0.6045\n",
      "Epoch 8/30\n",
      "484/484 [==============================] - 1s 2ms/step - loss: 0.3591 - root_mean_squared_error: 0.5993\n",
      "Epoch 9/30\n",
      "484/484 [==============================] - 1s 2ms/step - loss: 0.3547 - root_mean_squared_error: 0.5956\n",
      "Epoch 10/30\n",
      "484/484 [==============================] - 1s 2ms/step - loss: 0.3497 - root_mean_squared_error: 0.5913\n",
      "Epoch 11/30\n",
      "484/484 [==============================] - 1s 2ms/step - loss: 0.3425 - root_mean_squared_error: 0.5853\n",
      "Epoch 12/30\n",
      "484/484 [==============================] - 1s 2ms/step - loss: 0.3363 - root_mean_squared_error: 0.5799\n",
      "Epoch 13/30\n",
      "484/484 [==============================] - 1s 2ms/step - loss: 0.3351 - root_mean_squared_error: 0.5789\n",
      "Epoch 14/30\n",
      "484/484 [==============================] - 1s 2ms/step - loss: 0.3297 - root_mean_squared_error: 0.5742\n",
      "Epoch 15/30\n",
      "484/484 [==============================] - 1s 2ms/step - loss: 0.3278 - root_mean_squared_error: 0.5725\n",
      "Epoch 16/30\n",
      "484/484 [==============================] - 1s 2ms/step - loss: 0.3265 - root_mean_squared_error: 0.5714\n",
      "Epoch 17/30\n",
      "484/484 [==============================] - 1s 2ms/step - loss: 0.3244 - root_mean_squared_error: 0.5696\n",
      "Epoch 18/30\n",
      "484/484 [==============================] - 1s 2ms/step - loss: 0.3217 - root_mean_squared_error: 0.5672\n",
      "Epoch 19/30\n",
      "484/484 [==============================] - 1s 2ms/step - loss: 0.3217 - root_mean_squared_error: 0.5672\n",
      "Epoch 20/30\n",
      "484/484 [==============================] - 1s 2ms/step - loss: 0.3244 - root_mean_squared_error: 0.5696\n",
      "Epoch 21/30\n",
      "484/484 [==============================] - 1s 2ms/step - loss: 0.3197 - root_mean_squared_error: 0.5655\n",
      "Epoch 22/30\n",
      "484/484 [==============================] - 1s 2ms/step - loss: 0.3174 - root_mean_squared_error: 0.5633\n",
      "Epoch 23/30\n",
      "484/484 [==============================] - 1s 2ms/step - loss: 0.3175 - root_mean_squared_error: 0.5635\n",
      "Epoch 24/30\n",
      "484/484 [==============================] - 1s 2ms/step - loss: 0.3133 - root_mean_squared_error: 0.5597\n",
      "Epoch 25/30\n",
      "484/484 [==============================] - 1s 2ms/step - loss: 0.3148 - root_mean_squared_error: 0.5611\n",
      "Epoch 26/30\n",
      "484/484 [==============================] - 1s 2ms/step - loss: 0.3108 - root_mean_squared_error: 0.5575\n",
      "Epoch 27/30\n",
      "484/484 [==============================] - 1s 2ms/step - loss: 0.3106 - root_mean_squared_error: 0.5573\n",
      "Epoch 28/30\n",
      "484/484 [==============================] - 1s 2ms/step - loss: 0.3120 - root_mean_squared_error: 0.5585\n",
      "Epoch 29/30\n",
      "484/484 [==============================] - 1s 2ms/step - loss: 0.3125 - root_mean_squared_error: 0.5590\n",
      "Epoch 30/30\n",
      "484/484 [==============================] - 1s 2ms/step - loss: 0.3089 - root_mean_squared_error: 0.5558\n"
     ]
    }
   ],
   "source": [
    "X_train_wide, X_train_deep = X_train_full[:, :5], X_train_full[:, 2:]\n",
    "X_test_wide, X_test_deep = X_test[: :5], X_test[:, 2:]\n",
    "\n",
    "normalisation_layer_wide.adapt(X_train_wide)\n",
    "normalisation_layer_deep.adapt(X_train_deep)\n",
    "\n",
    "history = model.fit((X_train_wide, X_train_deep), y_train, epochs=30)"
   ]
  },
  {
   "cell_type": "code",
   "execution_count": null,
   "metadata": {},
   "outputs": [],
   "source": []
  }
 ],
 "metadata": {
  "kernelspec": {
   "display_name": ".venv",
   "language": "python",
   "name": "python3"
  },
  "language_info": {
   "codemirror_mode": {
    "name": "ipython",
    "version": 3
   },
   "file_extension": ".py",
   "mimetype": "text/x-python",
   "name": "python",
   "nbconvert_exporter": "python",
   "pygments_lexer": "ipython3",
   "version": "3.10.6"
  },
  "orig_nbformat": 4
 },
 "nbformat": 4,
 "nbformat_minor": 2
}
