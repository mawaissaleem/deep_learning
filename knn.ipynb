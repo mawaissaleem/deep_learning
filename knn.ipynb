{
 "cells": [
  {
   "cell_type": "code",
   "execution_count": 1,
   "metadata": {},
   "outputs": [],
   "source": [
    "import cv2\n",
    "import numpy as np"
   ]
  },
  {
   "cell_type": "code",
   "execution_count": 2,
   "metadata": {},
   "outputs": [
    {
     "name": "stdout",
     "output_type": "stream",
     "text": [
      "The shape of X_train is  (16, 3072)\n"
     ]
    }
   ],
   "source": [
    "# loading images and converting them to numpy array\n",
    "# for X_train\n",
    "X_train_lst = []\n",
    "for i in range(1, 17):\n",
    "    img = cv2.imread(f\"./train/{i}.jpg\")\n",
    "    img = cv2.resize(img, (32, 32))\n",
    "    img_np = np.array(img)\n",
    "    flat_array = img_np.reshape(img_np.shape[0] * img_np.shape[1] * img_np.shape[2])\n",
    "    X_train_lst.append(flat_array)\n",
    "    \n",
    "X_train = np.array(X_train_lst)\n",
    "print(\"The shape of X_train is \",X_train.shape)"
   ]
  },
  {
   "cell_type": "code",
   "execution_count": 3,
   "metadata": {},
   "outputs": [
    {
     "name": "stdout",
     "output_type": "stream",
     "text": [
      "The shape of y_train is  (16,)\n"
     ]
    }
   ],
   "source": [
    "y_train = np.array([0, 0, 0, 0, 0, 0, 0, 0, 1, 1, 1, 1, 1, 1, 1, 1])\n",
    "print(\"The shape of y_train is \", y_train.shape)"
   ]
  },
  {
   "cell_type": "code",
   "execution_count": 4,
   "metadata": {},
   "outputs": [],
   "source": [
    "# for X_test\n",
    "def test_data(number_of_images):\n",
    "    X_test_lst = []\n",
    "    for i in range(1,number_of_images+1):\n",
    "        img = cv2.imread(f\"./test/{i}.jpg\")\n",
    "        img = cv2.resize(img, (32, 32))\n",
    "        img_np = np.array(img)\n",
    "        flat_array = img_np.reshape(img_np.shape[0] * img_np.shape[1] * img_np.shape[2])\n",
    "        X_test_lst.append(flat_array)\n",
    "\n",
    "    X_test = np.array(X_test_lst)\n",
    "\n",
    "    return X_test\n",
    "\n",
    "X_test = test_data(4)\n",
    "\n",
    "# for y_test\n",
    "y_test = np.array([0,0,1,1])"
   ]
  },
  {
   "cell_type": "code",
   "execution_count": 5,
   "metadata": {},
   "outputs": [],
   "source": [
    "class KNN:\n",
    "\n",
    "\n",
    "    def __init__(self, k, problem: int=0, metric: int=0):\n",
    "        \"\"\"\n",
    "            Parameters\n",
    "            ----------\n",
    "            k: Number of nearest self.neighbors\n",
    "            problem: Type of learning\n",
    "            0 = Regression, 1 = Classification\n",
    "            metric: Distance metric to be used. \n",
    "            0 = Euclidean, 1 = Manhattan\n",
    "        \"\"\"\n",
    "        self.k = k\n",
    "        self.problem = problem\n",
    "        self.metric = metric\n",
    "\n",
    "    def fit(self, X_train, y_train):\n",
    "        self.X_train = X_train\n",
    "        self.y_train = y_train\n",
    "\n",
    "    def predict(self, X_test):\n",
    "\n",
    "        m = self.X_train.shape[0]\n",
    "        n = X_test.shape[0]\n",
    "        y_pred = []\n",
    "\n",
    "        # Calculating distances  \n",
    "        for i in range(n):  # for every sample in X_test\n",
    "            distance = []  # To store the distances\n",
    "            for j in range(m):  # for every sample in X_train\n",
    "                if self.metric == 0:\n",
    "                    d = (np.sqrt(np.sum(np.square(X_test[i,:] - self.X_train[j,:]))))  # Euclidean distance\n",
    "                else:\n",
    "                    d = (np.absolute(X_test[i, :] - self.X_train[j,:]))  # Manhattan distance\n",
    "                distance.append((d, y_train[j]))    \n",
    "            distance = sorted(distance) # sorting distances in ascending order\n",
    "\n",
    "            # Getting k nearest neighbors\n",
    "            neighbors = []\n",
    "            for item in range(self.k):\n",
    "                neighbors.append(distance[item][1])  # appending K nearest neighbors\n",
    "                \n",
    "            # Making predictions\n",
    "            if self.problem == 0:\n",
    "                y_pred.append(np.mean(neighbors))  # For Regression\n",
    "            else:\n",
    "                # For Classification\n",
    "                votes = 0\n",
    "                for i in range(0, self.k):\n",
    "                    if neighbors[i] == 1:\n",
    "                        votes = votes+1\n",
    "                if (votes/self.k)*100 >= 50:\n",
    "                    y_pred.append(1)\n",
    "                else:\n",
    "                    y_pred.append(0)\n",
    "        return y_pred"
   ]
  },
  {
   "cell_type": "code",
   "execution_count": 6,
   "metadata": {},
   "outputs": [],
   "source": [
    "def accuracy(y_true, y_pred):\n",
    "  accuracy = np.sum(y_true == y_pred)/len(y_true)*100\n",
    "  return accuracy"
   ]
  },
  {
   "cell_type": "code",
   "execution_count": 7,
   "metadata": {},
   "outputs": [
    {
     "name": "stdout",
     "output_type": "stream",
     "text": [
      "y_pred:  [1, 0, 0, 0]\n",
      "Accuracy 25.0\n"
     ]
    }
   ],
   "source": [
    "# for K=3\n",
    "knn = KNN(3,1,0)\n",
    "knn.fit(X_train, y_train)\n",
    "y_pred = knn.predict(X_test)\n",
    "print(\"y_pred: \", y_pred)\n",
    "print(\"Accuracy\", accuracy(y_test, y_pred))"
   ]
  },
  {
   "cell_type": "code",
   "execution_count": 8,
   "metadata": {},
   "outputs": [
    {
     "name": "stdout",
     "output_type": "stream",
     "text": [
      "y_pred:  [0, 0, 0, 0]\n",
      "Accuracy 50.0\n"
     ]
    }
   ],
   "source": [
    "# for K=5\n",
    "knn = KNN(5,1,0)\n",
    "knn.fit(X_train, y_train)\n",
    "y_pred = knn.predict(X_test)\n",
    "print(\"y_pred: \", y_pred)\n",
    "print(\"Accuracy\", accuracy(y_test, y_pred))"
   ]
  },
  {
   "cell_type": "code",
   "execution_count": 9,
   "metadata": {},
   "outputs": [
    {
     "name": "stdout",
     "output_type": "stream",
     "text": [
      "y_pred:  [0, 0, 0, 0]\n",
      "Accuracy 50.0\n"
     ]
    }
   ],
   "source": [
    "# for K=7\n",
    "knn = KNN(7,1,0)\n",
    "knn.fit(X_train, y_train)\n",
    "y_pred = knn.predict(X_test)\n",
    "print(\"y_pred: \", y_pred)\n",
    "print(\"Accuracy\", accuracy(y_test, y_pred))"
   ]
  },
  {
   "cell_type": "code",
   "execution_count": 10,
   "metadata": {},
   "outputs": [
    {
     "data": {
      "image/png": "[encoded data removed]",
      "text/plain": [
       "<Figure size 720x432 with 1 Axes>"
      ]
     },
     "metadata": {
      "needs_background": "light"
     },
     "output_type": "display_data"
    }
   ],
   "source": [
    "\n",
    "avg_intense_train = [np.mean(x) for x in X_train]\n",
    "std_deviation_train = [np.std(x) for x in X_train]\n",
    "\n",
    "avg_intense_test = [np.mean(x) for x in X_test]\n",
    "std_deviation_test = [np.std(x) for x in X_test]\n",
    "\n",
    "import matplotlib.pyplot as plt\n",
    "plt.figure(figsize=(10,6))\n",
    "plt.scatter(std_deviation_train[0:9],avg_intense_train[0:9], color=\"blue\")\n",
    "plt.scatter(std_deviation_train[8:17], avg_intense_train[8:17], color=\"orange\")\n",
    "plt.scatter(std_deviation_test[0:3], avg_intense_test[0:3], color = \"blue\", marker=\"*\")\n",
    "plt.scatter(std_deviation_test[2:5], avg_intense_test[2:5],color = 'orange', marker=\"*\")\n",
    "plt.show()\n"
   ]
  },
  {
   "cell_type": "code",
   "execution_count": 11,
   "metadata": {},
   "outputs": [],
   "source": [
    "class SVM:\n",
    "\n",
    "    def __init__(self, C = 1.0):\n",
    "        # C = error term\n",
    "        self.C = C\n",
    "        self.w = 0\n",
    "        self.b = 0\n",
    "\n",
    "    # Hinge Loss Function / Calculation\n",
    "    def hingeloss(self, w, b, x, y):\n",
    "        # Regularizer term\n",
    "        reg = 0.5 * (w * w)\n",
    "\n",
    "        for i in range(x.shape[0]):\n",
    "            # Optimization term\n",
    "            opt_term = y[i] * ((np.dot(w, x[i])) + b)\n",
    "\n",
    "            # calculating loss\n",
    "            loss = reg + self.C * max(0, 1-opt_term)\n",
    "            \n",
    "        return loss[0][0]\n",
    "\n",
    "    def fit(self, X, Y, batch_size=100, learning_rate=0.001, epochs=1000):\n",
    "        # The number of features in X\n",
    "        number_of_features = X.shape[1]\n",
    "\n",
    "        # The number of Samples in X\n",
    "        number_of_samples = X.shape[0]\n",
    "\n",
    "        c = self.C\n",
    "\n",
    "        # Creating ids from 0 to number_of_samples - 1\n",
    "        ids = np.arange(number_of_samples)\n",
    "\n",
    "        # Shuffling the samples randomly\n",
    "        np.random.shuffle(ids)\n",
    "\n",
    "        # creating an array of zeros\n",
    "        w = np.random.rand(1,number_of_features)\n",
    "        b = 0\n",
    "        losses = []\n",
    "\n",
    "        # Gradient Descent logic\n",
    "        for i in range(epochs):\n",
    "            # Calculating the Hinge Loss\n",
    "            l = self.hingeloss(w, b, X, Y)\n",
    "\n",
    "            # Appending all losses \n",
    "            losses.append(l)\n",
    "            \n",
    "            # Starting from 0 to the number of samples with batch_size as interval\n",
    "            for batch_initial in range(0, number_of_samples, batch_size):\n",
    "                gradw = 0\n",
    "                gradb = 0\n",
    "\n",
    "                for j in range(batch_initial, batch_initial+ batch_size):\n",
    "                    if j < number_of_samples:\n",
    "                        x = ids[j]\n",
    "                        ti = Y[x] * (np.dot(w, X[x].T) + b)\n",
    "\n",
    "                        if ti > 1:\n",
    "                            gradw += 0\n",
    "                            gradb += 0\n",
    "                        else:\n",
    "                            # Calculating the gradients\n",
    "\n",
    "                            #w.r.t w \n",
    "                            gradw += c * Y[x] * X[x]\n",
    "                            # w.r.t b\n",
    "                            gradb += c * Y[x]\n",
    "\n",
    "                # Updating weights and bias\n",
    "                w = w - learning_rate * gradw\n",
    "                b = b - learning_rate * gradb\n",
    "        \n",
    "        self.w = w\n",
    "        self.b = b\n",
    "\n",
    "        return self.w, self.b, losses\n",
    "\n",
    "    def predict(self, X):\n",
    "        prediction = np.dot(X, self.w[0]) + self.b # w.x + b\n",
    "        return np.sign(prediction)"
   ]
  },
  {
   "cell_type": "code",
   "execution_count": 12,
   "metadata": {},
   "outputs": [
    {
     "name": "stdout",
     "output_type": "stream",
     "text": [
      "[1. 1. 1. 1.]\n",
      "Accuracy 50.0\n"
     ]
    }
   ],
   "source": [
    "svm = SVM()\n",
    "w, b, loss = svm.fit(X_train, y_train)\n",
    "pred = svm.predict(X_test)\n",
    "print(pred)\n",
    "print(\"Accuracy\", accuracy(y_test, pred))"
   ]
  }
 ],
 "metadata": {
  "kernelspec": {
   "display_name": "Python 3 (ipykernel)",
   "language": "python",
   "name": "python3"
  },
  "language_info": {
   "codemirror_mode": {
    "name": "ipython",
    "version": 3
   },
   "file_extension": ".py",
   "mimetype": "text/x-python",
   "name": "python",
   "nbconvert_exporter": "python",
   "pygments_lexer": "ipython3",
   "version": "3.10.5"
  }
 },
 "nbformat": 4,
 "nbformat_minor": 2
}
